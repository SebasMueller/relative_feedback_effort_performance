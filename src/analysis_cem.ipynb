{
 "cells": [
  {
   "cell_type": "markdown",
   "metadata": {},
   "source": [
    "# Matching challenges"
   ]
  },
  {
   "cell_type": "markdown",
   "metadata": {},
   "source": [
    "## Using Coarsened Exact Matching to find comparable challenges"
   ]
  },
  {
   "cell_type": "code",
   "execution_count": 2,
   "metadata": {},
   "outputs": [],
   "source": [
    "%matplotlib inline\n",
    "\n",
    "import os\n",
    "import sys\n",
    "\n",
    "# Include directory for own modules\n",
    "module_path = os.path.abspath(os.path.join('../../code/own_modules'))\n",
    "if module_path not in sys.path:\n",
    "    sys.path.append(module_path)\n",
    "\n",
    "import numpy as np\n",
    "import pandas as pd\n",
    "import seaborn as sns\n",
    "import matplotlib as mpl\n",
    "import matplotlib.pyplot as plt\n",
    "import matplotlib.gridspec as gridspec\n",
    "import itertools\n",
    "from scipy.stats import mannwhitneyu, wilcoxon\n",
    "\n",
    "from cem import cem\n",
    "import imp\n",
    "from concentration_library.concentration_library import gini\n",
    "\n",
    "# Specify where to find data\n",
    "DATA_DIR = '../data'\n",
    "PLOTS_DIR = '../plots'\n",
    "\n",
    "\n",
    "# Set plotting style\n",
    "sns.set(style=\"ticks\", palette=\"bright\", context='paper', \n",
    "        rc={\"lines.linewidth\": 0.3, 'axes.linewidth':0.1, \n",
    "            'xtick.major.size': 2, 'xtick.major.width':0.1, 'xtick.labelsize': 7,\n",
    "            'ytick.major.size': 2, 'ytick.major.width':0.1, 'ytick.labelsize': 7,\n",
    "            'legend.fontsize': 7, 'font.size': 7})\n",
    "mpl.rcParams['font.size'] = 6\n",
    "mpl.rcParams['axes.titlesize'] = 8\n",
    "mpl.rcParams['axes.labelsize'] = 8\n",
    "mpl.rcParams['xtick.labelsize'] = 6\n",
    "mpl.rcParams['ytick.labelsize'] = 6\n",
    "mpl.rcParams['legend.fontsize'] = 6\n",
    "mpl.rcParams['axes.linewidth'] = 0.25\n",
    "mpl.rcParams['xtick.major.size'] = 2\n",
    "mpl.rcParams['ytick.major.width'] = 0.25\n",
    "mpl.rcParams['ytick.major.size'] = 2\n",
    "mpl.rcParams['xtick.major.width'] = 0.25\n",
    "mpl.rcParams['xtick.major.pad']='4'\n",
    "mpl.rcParams['ytick.major.pad']='4'\n",
    "mpl.rcParams['xtick.minor.size'] = 2\n",
    "mpl.rcParams['ytick.minor.width'] = 0.25\n",
    "mpl.rcParams['ytick.minor.size'] = 2\n",
    "mpl.rcParams['xtick.minor.width'] = 0.25\n",
    "#mpl.rcParams['xtick.direction'] = 'out'\n",
    "#mpl.rcParams['ytick.direction'] = 'out'\n",
    "mpl.rcParams['lines.linewidth'] = 0.25\n",
    "mpl.rcParams['patch.linewidth'] = 0.25\n",
    "mpl.rcParams['lines.markersize'] = 3\n",
    "mpl.rcParams['font.family'] = 'sans-serif'\n",
    "mpl.rcParams['font.sans-serif'] = ['Arial']"
   ]
  },
  {
   "cell_type": "markdown",
   "metadata": {},
   "source": [
    "## 1. Define covariates and cutpoints"
   ]
  },
  {
   "cell_type": "code",
   "execution_count": 3,
   "metadata": {},
   "outputs": [
    {
     "name": "stdout",
     "output_type": "stream",
     "text": [
      "7.42463768115942 14.979797979797977\n"
     ]
    }
   ],
   "source": [
    "ch_df = pd.read_csv(f'{DATA_DIR}/in/challenges_cem.csv')\n",
    "# OUTLIERS!!! - Get rid of contests with fewer than 10 contestants (5 rounds)\n",
    "ch_df = ch_df[ch_df['num_contestants']>=10]\n",
    "\n",
    "ex_q1 = ch_df[\"average_experience\"].quantile(q = 1/3)\n",
    "ex_q2 = ch_df[\"average_experience\"].quantile(q = 2/3)\n",
    "\n",
    "print(ex_q1, ex_q2)\n",
    "\n",
    "match_vars = [\n",
    "    \"num_contestants\", 'contestant_registrant_ratio', \n",
    "    'duration', \"average_experience\", \n",
    "    \"engagement_barrier\", 'scoring_complexity', \n",
    "    \"prize_pool\", \"prize_number\", \"prize_nonmonetary\", \n",
    "    \"system_vs_provisional\", \"provisional_testing\", \"task_type\"\n",
    "]\n",
    "\n",
    "# Additional variables ordered by priority\n",
    "match_vars = match_vars + [\n",
    "    \"submission_type\", \"machine_learning\", 'target', 'improve'\n",
    "]\n",
    "\n",
    "grouping_var = \"scoring_type\"\n",
    "\n",
    "cutpoints = {\n",
    "    'duration': [4*24, 9*24, 25*24], \n",
    "    \"average_experience\": [ex_q1, ex_q2],\n",
    "    \"num_contestants\": [50, 150, 300],\n",
    "    'contestant_registrant_ratio': [0.5, 0.9],\n",
    "    \"prize_pool\": [1, 10000, 35000],\n",
    "    \"prize_number\": [1, 6],\n",
    "    \"engagement_barrier\": [2.5],\n",
    "    'scoring_complexity': [2.5]           \n",
    "}\n"
   ]
  },
  {
   "cell_type": "markdown",
   "metadata": {},
   "source": [
    "## 2. Perform matching"
   ]
  },
  {
   "cell_type": "code",
   "execution_count": 4,
   "metadata": {},
   "outputs": [
    {
     "name": "stdout",
     "output_type": "stream",
     "text": [
      "              not_matched  matched  sum\n",
      "scoring_type                           \n",
      "Absolute              129       21  150\n",
      "Relative               70       31  101\n",
      "sum                   199       52  251\n"
     ]
    }
   ],
   "source": [
    "matched = cem.cem(data = ch_df,\n",
    "                   covariates = match_vars,\n",
    "                   treatment = grouping_var,\n",
    "                   cutpoints = cutpoints)\n"
   ]
  },
  {
   "cell_type": "code",
   "execution_count": 5,
   "metadata": {},
   "outputs": [
    {
     "name": "stdout",
     "output_type": "stream",
     "text": [
      "Unique problems: 49\n"
     ]
    }
   ],
   "source": [
    "print('Unique problems:', len(set(ch_df.iloc[list(matched.matched), :]['problem_id'])))"
   ]
  },
  {
   "cell_type": "markdown",
   "metadata": {},
   "source": [
    "## 3. Evaluate matching"
   ]
  },
  {
   "cell_type": "markdown",
   "metadata": {},
   "source": [
    "#### Difference in means"
   ]
  },
  {
   "cell_type": "code",
   "execution_count": 6,
   "metadata": {
    "scrolled": false
   },
   "outputs": [
    {
     "data": {
      "text/html": [
       "<div>\n",
       "<style scoped>\n",
       "    .dataframe tbody tr th:only-of-type {\n",
       "        vertical-align: middle;\n",
       "    }\n",
       "\n",
       "    .dataframe tbody tr th {\n",
       "        vertical-align: top;\n",
       "    }\n",
       "\n",
       "    .dataframe thead th {\n",
       "        text-align: right;\n",
       "    }\n",
       "</style>\n",
       "<table border=\"1\" class=\"dataframe\">\n",
       "  <thead>\n",
       "    <tr style=\"text-align: right;\">\n",
       "      <th></th>\n",
       "      <th>num_contestants</th>\n",
       "      <th>contestant_registrant_ratio</th>\n",
       "      <th>duration</th>\n",
       "      <th>average_experience</th>\n",
       "      <th>engagement_barrier</th>\n",
       "      <th>scoring_complexity</th>\n",
       "      <th>prize_pool</th>\n",
       "      <th>prize_number</th>\n",
       "    </tr>\n",
       "  </thead>\n",
       "  <tbody>\n",
       "    <tr>\n",
       "      <th>0</th>\n",
       "      <td>57.000000</td>\n",
       "      <td>-0.025425</td>\n",
       "      <td>1.000000</td>\n",
       "      <td>-2.285107</td>\n",
       "      <td>0.00</td>\n",
       "      <td>0.000</td>\n",
       "      <td>0.0</td>\n",
       "      <td>0.0</td>\n",
       "    </tr>\n",
       "    <tr>\n",
       "      <th>1</th>\n",
       "      <td>3.000000</td>\n",
       "      <td>-0.029070</td>\n",
       "      <td>2.000000</td>\n",
       "      <td>0.408354</td>\n",
       "      <td>-0.50</td>\n",
       "      <td>-0.500</td>\n",
       "      <td>0.0</td>\n",
       "      <td>0.0</td>\n",
       "    </tr>\n",
       "    <tr>\n",
       "      <th>2</th>\n",
       "      <td>-10.000000</td>\n",
       "      <td>0.000000</td>\n",
       "      <td>1.000000</td>\n",
       "      <td>6.106453</td>\n",
       "      <td>0.00</td>\n",
       "      <td>0.500</td>\n",
       "      <td>0.0</td>\n",
       "      <td>0.0</td>\n",
       "    </tr>\n",
       "    <tr>\n",
       "      <th>3</th>\n",
       "      <td>-33.000000</td>\n",
       "      <td>-0.154103</td>\n",
       "      <td>-5.500000</td>\n",
       "      <td>1.496975</td>\n",
       "      <td>0.00</td>\n",
       "      <td>1.000</td>\n",
       "      <td>0.0</td>\n",
       "      <td>0.0</td>\n",
       "    </tr>\n",
       "    <tr>\n",
       "      <th>4</th>\n",
       "      <td>-27.500000</td>\n",
       "      <td>-0.117830</td>\n",
       "      <td>0.500000</td>\n",
       "      <td>1.647583</td>\n",
       "      <td>-0.25</td>\n",
       "      <td>0.000</td>\n",
       "      <td>0.0</td>\n",
       "      <td>0.0</td>\n",
       "    </tr>\n",
       "    <tr>\n",
       "      <th>5</th>\n",
       "      <td>-37.000000</td>\n",
       "      <td>-0.006164</td>\n",
       "      <td>-23.666667</td>\n",
       "      <td>1.773859</td>\n",
       "      <td>0.00</td>\n",
       "      <td>0.000</td>\n",
       "      <td>0.0</td>\n",
       "      <td>0.0</td>\n",
       "    </tr>\n",
       "    <tr>\n",
       "      <th>6</th>\n",
       "      <td>29.333333</td>\n",
       "      <td>-0.022687</td>\n",
       "      <td>-0.666667</td>\n",
       "      <td>2.175665</td>\n",
       "      <td>0.00</td>\n",
       "      <td>-0.500</td>\n",
       "      <td>0.0</td>\n",
       "      <td>0.0</td>\n",
       "    </tr>\n",
       "    <tr>\n",
       "      <th>7</th>\n",
       "      <td>1.000000</td>\n",
       "      <td>0.000000</td>\n",
       "      <td>-5.000000</td>\n",
       "      <td>30.141667</td>\n",
       "      <td>0.00</td>\n",
       "      <td>1.000</td>\n",
       "      <td>0.0</td>\n",
       "      <td>0.0</td>\n",
       "    </tr>\n",
       "    <tr>\n",
       "      <th>8</th>\n",
       "      <td>-73.500000</td>\n",
       "      <td>0.017001</td>\n",
       "      <td>19.500000</td>\n",
       "      <td>-0.459125</td>\n",
       "      <td>0.50</td>\n",
       "      <td>0.500</td>\n",
       "      <td>0.0</td>\n",
       "      <td>0.0</td>\n",
       "    </tr>\n",
       "    <tr>\n",
       "      <th>9</th>\n",
       "      <td>54.500000</td>\n",
       "      <td>0.041073</td>\n",
       "      <td>3.000000</td>\n",
       "      <td>1.217336</td>\n",
       "      <td>0.00</td>\n",
       "      <td>0.000</td>\n",
       "      <td>0.0</td>\n",
       "      <td>0.0</td>\n",
       "    </tr>\n",
       "    <tr>\n",
       "      <th>10</th>\n",
       "      <td>19.750000</td>\n",
       "      <td>0.018622</td>\n",
       "      <td>0.000000</td>\n",
       "      <td>-3.087000</td>\n",
       "      <td>0.00</td>\n",
       "      <td>-0.375</td>\n",
       "      <td>0.0</td>\n",
       "      <td>0.0</td>\n",
       "    </tr>\n",
       "    <tr>\n",
       "      <th>11</th>\n",
       "      <td>-32.000000</td>\n",
       "      <td>-0.027288</td>\n",
       "      <td>0.000000</td>\n",
       "      <td>1.723345</td>\n",
       "      <td>0.00</td>\n",
       "      <td>0.000</td>\n",
       "      <td>0.0</td>\n",
       "      <td>0.0</td>\n",
       "    </tr>\n",
       "    <tr>\n",
       "      <th>12</th>\n",
       "      <td>17.000000</td>\n",
       "      <td>0.074183</td>\n",
       "      <td>1.000000</td>\n",
       "      <td>-29.922402</td>\n",
       "      <td>0.00</td>\n",
       "      <td>0.500</td>\n",
       "      <td>0.0</td>\n",
       "      <td>0.0</td>\n",
       "    </tr>\n",
       "    <tr>\n",
       "      <th>13</th>\n",
       "      <td>-55.400000</td>\n",
       "      <td>-0.000154</td>\n",
       "      <td>-0.800000</td>\n",
       "      <td>1.012947</td>\n",
       "      <td>0.00</td>\n",
       "      <td>0.000</td>\n",
       "      <td>0.0</td>\n",
       "      <td>0.0</td>\n",
       "    </tr>\n",
       "    <tr>\n",
       "      <th>14</th>\n",
       "      <td>6.000000</td>\n",
       "      <td>-0.020833</td>\n",
       "      <td>8.500000</td>\n",
       "      <td>-22.611260</td>\n",
       "      <td>-0.50</td>\n",
       "      <td>0.000</td>\n",
       "      <td>0.0</td>\n",
       "      <td>0.0</td>\n",
       "    </tr>\n",
       "    <tr>\n",
       "      <th>15</th>\n",
       "      <td>-36.000000</td>\n",
       "      <td>-0.004630</td>\n",
       "      <td>-3.500000</td>\n",
       "      <td>-3.051556</td>\n",
       "      <td>0.00</td>\n",
       "      <td>0.750</td>\n",
       "      <td>0.0</td>\n",
       "      <td>0.0</td>\n",
       "    </tr>\n",
       "  </tbody>\n",
       "</table>\n",
       "</div>"
      ],
      "text/plain": [
       "    num_contestants  contestant_registrant_ratio   duration  \\\n",
       "0         57.000000                    -0.025425   1.000000   \n",
       "1          3.000000                    -0.029070   2.000000   \n",
       "2        -10.000000                     0.000000   1.000000   \n",
       "3        -33.000000                    -0.154103  -5.500000   \n",
       "4        -27.500000                    -0.117830   0.500000   \n",
       "5        -37.000000                    -0.006164 -23.666667   \n",
       "6         29.333333                    -0.022687  -0.666667   \n",
       "7          1.000000                     0.000000  -5.000000   \n",
       "8        -73.500000                     0.017001  19.500000   \n",
       "9         54.500000                     0.041073   3.000000   \n",
       "10        19.750000                     0.018622   0.000000   \n",
       "11       -32.000000                    -0.027288   0.000000   \n",
       "12        17.000000                     0.074183   1.000000   \n",
       "13       -55.400000                    -0.000154  -0.800000   \n",
       "14         6.000000                    -0.020833   8.500000   \n",
       "15       -36.000000                    -0.004630  -3.500000   \n",
       "\n",
       "    average_experience  engagement_barrier  scoring_complexity  prize_pool  \\\n",
       "0            -2.285107                0.00               0.000         0.0   \n",
       "1             0.408354               -0.50              -0.500         0.0   \n",
       "2             6.106453                0.00               0.500         0.0   \n",
       "3             1.496975                0.00               1.000         0.0   \n",
       "4             1.647583               -0.25               0.000         0.0   \n",
       "5             1.773859                0.00               0.000         0.0   \n",
       "6             2.175665                0.00              -0.500         0.0   \n",
       "7            30.141667                0.00               1.000         0.0   \n",
       "8            -0.459125                0.50               0.500         0.0   \n",
       "9             1.217336                0.00               0.000         0.0   \n",
       "10           -3.087000                0.00              -0.375         0.0   \n",
       "11            1.723345                0.00               0.000         0.0   \n",
       "12          -29.922402                0.00               0.500         0.0   \n",
       "13            1.012947                0.00               0.000         0.0   \n",
       "14          -22.611260               -0.50               0.000         0.0   \n",
       "15           -3.051556                0.00               0.750         0.0   \n",
       "\n",
       "    prize_number  \n",
       "0            0.0  \n",
       "1            0.0  \n",
       "2            0.0  \n",
       "3            0.0  \n",
       "4            0.0  \n",
       "5            0.0  \n",
       "6            0.0  \n",
       "7            0.0  \n",
       "8            0.0  \n",
       "9            0.0  \n",
       "10           0.0  \n",
       "11           0.0  \n",
       "12           0.0  \n",
       "13           0.0  \n",
       "14           0.0  \n",
       "15           0.0  "
      ]
     },
     "execution_count": 6,
     "metadata": {},
     "output_type": "execute_result"
    }
   ],
   "source": [
    "# Values are (Relative - Absolute)\n",
    "matched_diff = matched.diff_in_means()\n",
    "matched_diff"
   ]
  },
  {
   "cell_type": "markdown",
   "metadata": {},
   "source": [
    "### Plotting the differences in means"
   ]
  },
  {
   "cell_type": "code",
   "execution_count": 7,
   "metadata": {},
   "outputs": [
    {
     "data": {
      "image/png": "[encoded data removed]",
      "text/plain": [
       "<Figure size 324x194.4 with 6 Axes>"
      ]
     },
     "metadata": {},
     "output_type": "display_data"
    }
   ],
   "source": [
    "coarsened = ['num_contestants', 'contestant_registrant_ratio', 'duration', \n",
    "          'average_experience', 'engagement_barrier', 'scoring_complexity'] \n",
    "coarsened_titles = ['Number of contestants', 'Contestants/registrants ratio', 'Duration', \n",
    "                  'Average contestant experience', 'Engagement barrier', 'Scoring complexity']\n",
    "\n",
    "\n",
    "fig = plt.figure(figsize = (4.5, 2.7))\n",
    "gs = gridspec.GridSpec(2, 3, wspace=0.35, hspace=0.6, left=0.09, right=0.98, top=0.95, bottom=0.14)\n",
    "\n",
    "num = 0\n",
    "for i in coarsened:\n",
    "    this_ax = fig.add_subplot(gs[num//3, num%3])\n",
    "    abs_max = max(abs(min(matched_diff[i])), abs(max(matched_diff[i])))\n",
    "    sns.distplot(matched_diff[i], kde=False, ax=this_ax, color='k', \n",
    "                 bins = len(matched_diff[i].unique())*2, hist_kws=dict(alpha=0.5),\n",
    "                axlabel = coarsened_titles[num]+'\\n')\n",
    "    this_ax.set_xlim(-1.1*abs_max, 1.1*abs_max)\n",
    "    if num%3==0:\n",
    "        this_ax.set_ylabel('Count')\n",
    "    num += 1\n",
    "plt.savefig(f'{PLOTS_DIR}fig_s2.pdf', format='pdf')"
   ]
  },
  {
   "cell_type": "code",
   "execution_count": 8,
   "metadata": {},
   "outputs": [],
   "source": [
    "# Assign strata to observations in challenge data\n",
    "\n",
    "ch_df['stratum'] = np.nan\n",
    "for stratum, challenges in matched.strata.items():\n",
    "    round_ids = ch_df.iloc[challenges, :].index.tolist()\n",
    "    ch_df.loc[ch_df.index.isin(round_ids), 'stratum'] = stratum\n",
    "# Extract list of matched challenges\n",
    "matched_ch_df = ch_df[ch_df['stratum'].notnull()]   "
   ]
  },
  {
   "cell_type": "code",
   "execution_count": 9,
   "metadata": {
    "scrolled": false
   },
   "outputs": [
    {
     "name": "stdout",
     "output_type": "stream",
     "text": [
      "### DESCRIPTIVES FOR MATCHED DATA ###\n",
      "\n",
      "       num_contestants  contestant_registrant_ratio    duration  \\\n",
      "count        52.000000                    52.000000   52.000000   \n",
      "mean        122.230769                     0.767211  292.576923   \n",
      "std          80.327178                     0.306699   96.458534   \n",
      "min          10.000000                     0.144578    8.000000   \n",
      "25%          62.500000                     0.476431  332.500000   \n",
      "50%         109.500000                     0.975476  335.000000   \n",
      "75%         172.000000                     1.000000  336.000000   \n",
      "max         293.000000                     1.000000  355.000000   \n",
      "\n",
      "       average_experience  engagement_barrier  scoring_complexity  prize_pool  \\\n",
      "count           52.000000           52.000000           52.000000        52.0   \n",
      "mean            29.500638            1.894231            1.317308         0.0   \n",
      "std             50.297394            0.285886            0.443127         0.0   \n",
      "min              1.163347            1.000000            1.000000         0.0   \n",
      "25%              6.705560            2.000000            1.000000         0.0   \n",
      "50%             12.421727            2.000000            1.000000         0.0   \n",
      "75%             18.712686            2.000000            2.000000         0.0   \n",
      "max            221.533333            2.000000            2.000000         0.0   \n",
      "\n",
      "       prize_number  \n",
      "count          52.0  \n",
      "mean            0.0  \n",
      "std             0.0  \n",
      "min             0.0  \n",
      "25%             0.0  \n",
      "50%             0.0  \n",
      "75%             0.0  \n",
      "max             0.0  \n",
      "col_0             count\n",
      "machine_learning       \n",
      "No                   52\n",
      "col_0    count\n",
      "improve       \n",
      "No          52\n",
      "col_0             count\n",
      "target                 \n",
      "Quality              50\n",
      "Resource or Both      2\n",
      "col_0         count\n",
      "task_type          \n",
      "Optimization     35\n",
      "Strategy         17\n",
      "col_0            count\n",
      "submission_type       \n",
      "Code                52\n",
      "col_0                count\n",
      "provisional_testing       \n",
      "Shared                  48\n",
      "TC only                  4\n",
      "col_0                  count\n",
      "system_vs_provisional       \n",
      "Similar                   52\n",
      "col_0              count\n",
      "prize_nonmonetary       \n",
      "No                    52\n",
      "col_0            count\n",
      "prize_threshold       \n",
      "No                  52\n",
      "Unique problems:  49\n"
     ]
    }
   ],
   "source": [
    "cat_vars = ['machine_learning', 'improve', 'target',\n",
    "              'task_type', 'submission_type', \n",
    "              'provisional_testing', 'system_vs_provisional',\n",
    "              'prize_nonmonetary', 'prize_threshold']\n",
    "\n",
    "print('### DESCRIPTIVES FOR MATCHED DATA ###\\n')\n",
    "print(matched_ch_df[match_vars].describe())\n",
    "for i in cat_vars:\n",
    "    print(pd.crosstab(index=matched_ch_df[i], columns=\"count\"))\n",
    "print('Unique problems: ', len(matched_ch_df['problem_id'].unique()))"
   ]
  },
  {
   "cell_type": "markdown",
   "metadata": {},
   "source": [
    "## 4. Find individuals within Strata"
   ]
  },
  {
   "cell_type": "markdown",
   "metadata": {},
   "source": [
    "### 4.1. Normalize individual variables within challenge"
   ]
  },
  {
   "cell_type": "code",
   "execution_count": 10,
   "metadata": {},
   "outputs": [],
   "source": [
    "ind_df = pd.read_csv(f'{DATA_DIR}/in/tcprofilesubset.csv')\\\n",
    "                  [['round_id', 'coder_id', 'handle', 'attended', \\\n",
    "                    'num_submissions', 'point_total', 'provisional_placed', \\\n",
    "                    'system_point_total', 'placed', 'rated_ind', \n",
    "                    'old_rating', 'new_rating', 'num_ratings']]\n",
    "\n",
    "# Consider only participants who made at least 1 non-zero-point submission !!!\n",
    "ind_df = ind_df[(ind_df['attended'] == 'Y') & (ind_df['num_submissions'] > 0)]\n",
    "# Recode old_rating=0 as missing - these are data errors !!!\n",
    "ind_df['old_rating'] = ind_df['old_rating'].replace(0, np.nan)"
   ]
  },
  {
   "cell_type": "code",
   "execution_count": 11,
   "metadata": {
    "scrolled": false
   },
   "outputs": [],
   "source": [
    "# Add challenge variables to individual data\n",
    "ind_df = ind_df.merge(matched_ch_df[['round_id', 'duration', \\\n",
    "                                        'first_submission_time', 'last_submission_time']], \\\n",
    "                                        on='round_id', how='inner')\n",
    "\n",
    "### Create new normalized individual-level variables\n",
    "\n",
    "# Relative provisional score\n",
    "ind_df['prov_score_norm'] = ind_df.groupby('round_id')['point_total']\\\n",
    "                                     .transform(lambda x: x / x.max())\n",
    "# Relative final score\n",
    "# Use provisional score if system score is missing !!!\n",
    "ind_df.loc[ind_df['system_point_total'].isnull(), 'system_point_total'] = ind_df['point_total']\n",
    "ind_df['fin_score_norm'] = ind_df.groupby('round_id')['system_point_total']\\\n",
    "                                 .transform(lambda x: x / x.max())\n",
    "# Relative rating\n",
    "ind_df['old_rating_norm'] = ind_df.groupby('round_id')['old_rating']\\\n",
    "                                  .transform(lambda x: x / x.max())\n",
    "# Provisional rank percentile\n",
    "ind_df['prov_rank_norm'] = ind_df.groupby('round_id')['point_total']\\\n",
    "                                 .rank(pct=True)\n",
    "# Final rank percentile\n",
    "ind_df['fin_rank_norm'] = ind_df.groupby('round_id')['system_point_total']\\\n",
    "                                 .rank(pct=True)\n",
    "# Rating percentile\n",
    "ind_df['old_rating_rank_norm'] = ind_df.groupby('round_id')['old_rating']\\\n",
    "                                       .rank(pct=True)\n",
    "    \n",
    "# Submission frquency counting registrants   \n",
    "ind_df['submission_freq'] = (ind_df['num_submissions'] / ind_df['duration'])\n",
    "\n",
    "# Predictability of performance\n",
    "ind_df['predictability_prov'] = 1 - abs(ind_df['prov_rank_norm'] - ind_df['old_rating_rank_norm'])\n",
    "ind_df['predictability_fin'] = 1 - abs(ind_df['fin_rank_norm'] - ind_df['old_rating_rank_norm'])\n",
    "ind_df['predictability_norm_score'] = 1 - abs(ind_df['prov_score_norm'] - ind_df['old_rating_norm'])\n",
    "ind_df['new_minus_old_rating'] = ind_df['new_rating'] - ind_df['old_rating']\n",
    "ind_df['dev_from_predicted_prov'] = ind_df['prov_rank_norm'] - ind_df['old_rating_rank_norm']\n",
    "ind_df['dev_from_predicted_fin'] = ind_df['fin_rank_norm'] - ind_df['old_rating_rank_norm']\n",
    "\n",
    "\n",
    "\n",
    "# Inequality for individuals - deviation in score from maximum score\n",
    "ind_df['prov_score_norm_distance'] = 1 - ind_df['prov_score_norm']\n",
    "ind_df['fin_score_norm_distance'] = 1 - ind_df['fin_score_norm']\n",
    "\n",
    "ind_df['num_nonmissing_prov'] = ind_df.groupby('round_id')['prov_score_norm'].transform('count')\n",
    "ind_df['num_nonmissing_fin'] = ind_df.groupby('round_id')['fin_score_norm'].transform('count')\n",
    "ind_df['num_nonmissing_numsubmissions'] = ind_df.groupby('round_id')['num_submissions'].transform('count')\n",
    "ind_df['num_nonmissing_oldrating'] = ind_df.groupby('round_id')['old_rating'].transform('count')\n",
    "\n",
    "ind_df['num_prev_ratings'] = ind_df['num_ratings'] - 1\n",
    "ind_df.loc[ind_df['num_prev_ratings'] < 0, 'num_prev_ratings'] = 0\n",
    "ind_df.loc[(ind_df['num_prev_ratings'] < 1) & (ind_df['old_rating'].notnull()), 'num_prev_ratings' ] = 1"
   ]
  },
  {
   "cell_type": "markdown",
   "metadata": {},
   "source": [
    "### 4.2. Create new challenge-level variables from individual ones"
   ]
  },
  {
   "cell_type": "code",
   "execution_count": 13,
   "metadata": {
    "scrolled": false
   },
   "outputs": [
    {
     "name": "stdout",
     "output_type": "stream",
     "text": [
      "Unique individuals: 2774\n",
      "       num_submissions  num_ratings  num_prev_ratings  old_rating_rank_norm  \\\n",
      "count      5916.000000  5916.000000       5916.000000           4158.000000   \n",
      "mean          7.863590     9.118492          8.203854              0.505892   \n",
      "std           9.364118    13.230564         13.175454              0.288762   \n",
      "min           1.000000     0.000000          0.000000              0.003937   \n",
      "25%           2.000000     1.000000          0.000000              0.255443   \n",
      "50%           5.000000     4.000000          3.000000              0.505814   \n",
      "75%          10.000000    12.000000         11.000000              0.755148   \n",
      "max         162.000000   126.000000        125.000000              1.000000   \n",
      "\n",
      "       predictability_prov  prov_score_norm_distance  last_complexity  \\\n",
      "count          4158.000000               5916.000000      5577.000000   \n",
      "mean              0.813346                  0.430351       117.179666   \n",
      "std               0.162194                  0.337390       115.361497   \n",
      "min               0.061644                  0.000000         1.000000   \n",
      "25%               0.730303                  0.121077        42.000000   \n",
      "50%               0.857195                  0.355307        84.000000   \n",
      "75%               0.939189                  0.734909       155.000000   \n",
      "max               1.000000                  1.000000      1476.000000   \n",
      "\n",
      "       sum_code_lines  \n",
      "count     5113.000000  \n",
      "mean       783.165069  \n",
      "std       1120.634707  \n",
      "min          3.000000  \n",
      "25%        224.000000  \n",
      "50%        497.000000  \n",
      "75%        968.000000  \n",
      "max      37076.000000  \n"
     ]
    }
   ],
   "source": [
    "def get_round_gini(df, var, numnonmiss):\n",
    "    '''Gini coefficient, defined for 8+ participants'''\n",
    "    return df[(df[var].notnull()) & (df[numnonmiss]>=8)]\\\n",
    "             .groupby('round_id')[var]\\\n",
    "             .apply( lambda x: gini(x.values) )  #.reset_index(name='coeff_var_prov')\n",
    "\n",
    "def get_round_coeffvar(df, var, numnonmiss):\n",
    "    '''Coefficient of variation, defined for 8+ participants'''\n",
    "    return df[ind_df[var].notnull() & (df[numnonmiss]>=8)]\\\n",
    "             .groupby('round_id')[var]\\\n",
    "             .apply( lambda x: x.std() / x.mean() )\n",
    "\n",
    "def get_round_mean(df, var):\n",
    "    return df.groupby('round_id')[var].apply( lambda x: x.mean() )\n",
    "\n",
    "def get_round_spearman(df, var):\n",
    "    '''Spearman rank correlation between old_rating_rank_norm and var,\n",
    "    defined for 8+ participants'''\n",
    "    return df[(df['old_rating_rank_norm'].notnull()) & (df[var].notnull())]\\\n",
    "              .groupby('round_id')[['old_rating_rank_norm', var]]\\\n",
    "              .corr(method = 'spearman', min_periods = 8).iloc[0::2, -1]\\\n",
    "              .reset_index(level = 1, drop = True)\n",
    "\n",
    "def read_diffs():\n",
    "    '''Get measure of effort from diffs file.\n",
    "    Effort = code lines of first submission + sum(insertions)\n",
    "    '''\n",
    "    vars1 = ['insertions', 'submission_lines', 'submission_number']\n",
    "    df = pd.read_excel(f'{DATA_DIR}/in/diffs.xls', sheet_name='coder id and round id')\n",
    "    for var in vars1:\n",
    "        dfvar = pd.read_excel(f'{DATA_DIR}/in/diffs.xls', \\\n",
    "                              sheet_name=var, header=None, names=[var+str(i) for i in range(1, 163)])\n",
    "        df = pd.concat([df, dfvar], axis=1)\n",
    "\n",
    "    # Drop missing coders\n",
    "    df = df[(df['round_id'] != 0) & (df['coder_id'] != 0)]\n",
    "    # Drop first records of 4 coders who switched languages halfway through !!!\n",
    "    df = df.drop_duplicates(subset = ['round_id', 'coder_id'])\n",
    "    \n",
    "    # Trnasform from wide to long\n",
    "    df = pd.wide_to_long(df, stubnames=vars1, i=['round_id', 'coder_id'], j='temp')\\\n",
    "            .reset_index()\n",
    "    # Drop missing submissions and temp column\n",
    "    df = df[(df['submission_number'] > 0)]\n",
    "    df = df.drop(columns=['temp'])\n",
    "    \n",
    "    # Recode diffs for submission_number==1 as missing\n",
    "    df.loc[df['submission_number']==1, 'insertions'] = np.nan\n",
    "    \n",
    "    sum_insertions = df.groupby(['round_id', 'coder_id'])['insertions']\\\n",
    "                     .apply( lambda x: x.sum() ).reset_index()\n",
    "    \n",
    "    # If first submission is missing, get the number of lines of the next available\n",
    "    df.sort_values(by=['round_id', 'coder_id', 'submission_number'], inplace=True)\n",
    "    firsts = df.groupby(['round_id', 'coder_id']).first().reset_index()[['round_id', 'coder_id', 'submission_lines']]\n",
    "    \n",
    "    # Get the number of lines of last submission\n",
    "    lasts = df.groupby(['round_id', 'coder_id']).last().reset_index()[['round_id', 'coder_id', 'submission_lines']]\n",
    "    lasts.columns = ['round_id', 'coder_id', 'last_submission_lines']\n",
    "    \n",
    "    df = firsts.merge(sum_insertions, on=['round_id', 'coder_id'], how='left')\n",
    "    df['sum_code_lines'] = df['submission_lines'] + df['insertions']\n",
    "    df = df[['round_id', 'coder_id', 'submission_lines', 'insertions', 'sum_code_lines']]\n",
    "    df.columns = ['round_id', 'coder_id', 'first_submission_lines', 'sum_insertions', 'sum_code_lines']\n",
    "    df = df.merge(lasts, on=['round_id', 'coder_id'], how='left')\n",
    "    \n",
    "    return df\n",
    "     \n",
    "\n",
    "# Get complexities\n",
    "comp_df = pd.read_csv(f'{DATA_DIR}/in/complexities.csv')\\\n",
    "                  [['round_id', 'coder_id', 'Complexity_First', 'Complexity_Last']]\n",
    "comp_df.columns = ['round_id', 'coder_id', 'first_complexity', 'last_complexity']\n",
    "comp_df['num_nonmissing_firstcomp'] = comp_df.groupby('round_id')['first_complexity'].transform('count')\n",
    "comp_df['num_nonmissing_lastcomp'] = comp_df.groupby('round_id')['last_complexity'].transform('count')\n",
    "\n",
    "# Get diffs\n",
    "diff_df = read_diffs()\n",
    "diff_df['num_nonmissing_sumcodelines'] = diff_df.groupby('round_id')['sum_code_lines'].transform('count')\n",
    "\n",
    "# Add complexities and diffs to individual data\n",
    "ind_df = ind_df.merge(comp_df, on=['round_id', 'coder_id'], how='left')\n",
    "ind_df = ind_df.merge(diff_df, on=['round_id', 'coder_id'], how='left')\n",
    "\n",
    "\n",
    "print('Unique individuals:', len(ind_df['coder_id'].unique()))\n",
    "\n",
    "print(ind_df\\\n",
    "      [['num_submissions', 'num_ratings', 'num_prev_ratings', 'old_rating_rank_norm', \\\n",
    "        'predictability_prov', 'prov_score_norm_distance', 'last_complexity', 'sum_code_lines']].describe())\n",
    " "
   ]
  },
  {
   "cell_type": "code",
   "execution_count": 15,
   "metadata": {
    "scrolled": false
   },
   "outputs": [],
   "source": [
    "### EFFORT\n",
    "\n",
    "# Mean frequency of submissions \n",
    "mean_submit_num = get_round_mean(ind_df, 'num_submissions')\n",
    "# Median frequency of submissions \n",
    "median_submit_num = ind_df\\\n",
    "                    .groupby('round_id')['num_submissions']\\\n",
    "                    .apply( lambda x: x.median() )\n",
    "# Coefficient of variation for number of submissions\n",
    "coeff_var_num_submissions = get_round_coeffvar(ind_df, 'num_submissions', 'num_nonmissing_numsubmissions')\n",
    "# Coefficient of variation for total code lines\n",
    "coeff_var_sum_code_lines = get_round_coeffvar(ind_df, 'sum_code_lines', 'num_nonmissing_sumcodelines')\n",
    "# Gini coefficient for number of submissions\n",
    "gini_num_submissions = get_round_gini(ind_df, 'num_submissions', 'num_nonmissing_numsubmissions')\n",
    "# Gini coefficient for total code lines\n",
    "gini_sum_code_lines = get_round_gini(ind_df, 'sum_code_lines', 'num_nonmissing_sumcodelines')\n",
    "  \n",
    "        \n",
    "### INEQUALITY - DEFINED FOR 8+ participants\n",
    "\n",
    "# Coefficient of variation for provisional scores\n",
    "coeff_var_prov = get_round_coeffvar(ind_df, 'prov_score_norm', 'num_nonmissing_prov')\n",
    "# Coefficient of variation for final scores\n",
    "coeff_var_fin = get_round_coeffvar(ind_df, 'fin_score_norm', 'num_nonmissing_fin')\n",
    "# Coefficient of variation for first complexities\n",
    "coeff_var_firstcomp = get_round_coeffvar(ind_df, 'first_complexity', 'num_nonmissing_firstcomp')\n",
    "# Coefficient of variation for last complexities\n",
    "coeff_var_lastcomp = get_round_coeffvar(ind_df, 'last_complexity', 'num_nonmissing_lastcomp')\n",
    "\n",
    "# Gini coefficient for provisional scores\n",
    "gini_prov = get_round_gini(ind_df, 'prov_score_norm', 'num_nonmissing_prov')\n",
    "# Gini coefficient for final scores\n",
    "gini_fin = get_round_gini(ind_df, 'fin_score_norm', 'num_nonmissing_fin') \n",
    "# Gini coefficient for ffirst complexities\n",
    "gini_firstcomp = get_round_gini(ind_df, 'first_complexity', 'num_nonmissing_firstcomp') \n",
    "# Gini coefficient for last complexities\n",
    "gini_lastcomp = get_round_gini(ind_df, 'last_complexity', 'num_nonmissing_lastcomp') \n",
    "\n",
    "### PREDICTABILITY - DEFINED FOR 8+ participants\n",
    "\n",
    "# Spearman rank correlation between old_rating_rank_norm and prov_rank_norm\n",
    "corr_old_prov_rank = get_round_spearman(ind_df, 'prov_rank_norm')         \n",
    "# Spearman rank correlation betwen old_rating_rank_norm and fin_rank_norm\n",
    "corr_old_fin_rank = get_round_spearman(ind_df, 'fin_rank_norm')             \n",
    "# Spearman rank correlation betwen old_rating and new_rating\n",
    "corr_old_new_rating = get_round_spearman(ind_df, 'new_rating') \n",
    "# Spearman rank correlation between old_rating_norm and prov_score_norm\n",
    "corr_old_prov_score = get_round_spearman(ind_df, 'prov_score_norm') \n",
    "\n",
    "\n",
    "# Mean new_rating for newcomers\n",
    "mean_rating_newcomers = ind_df[(ind_df['num_ratings'] < 2) \\\n",
    "                                   & (ind_df['new_rating'].notnull())]\\\n",
    "                                   .groupby('round_id')['new_rating']\\\n",
    "                                   .apply( lambda x: x.mean() )\n",
    "# Median new_rating for newcomers\n",
    "median_rating_newcomers = ind_df[(ind_df['num_ratings'] < 2) \\\n",
    "                                   & (ind_df['new_rating'].notnull())]\\\n",
    "                                   .groupby('round_id')['new_rating']\\\n",
    "                                   .apply( lambda x: x.median() )\n",
    "\n",
    "### PARTICIPANT PROFILES\n",
    "ind_df['newcomer'] = (ind_df['num_ratings'] < 2)\n",
    "prop_newcomers = ind_df.groupby('round_id')['newcomer'].apply( lambda x: x.sum() / x.count() )\n",
    "mean_old_rating = ind_df[ind_df['old_rating'].notnull()]\\\n",
    "                  .groupby('round_id')['old_rating'].apply( lambda x: x.mean() )\n",
    "median_old_rating = ind_df[ind_df['old_rating'].notnull()]\\\n",
    "                  .groupby('round_id')['old_rating'].apply( lambda x: x.median() )\n",
    "gini_old_rating = get_round_gini(ind_df, 'old_rating', 'num_nonmissing_oldrating') \n",
    "coeff_var_old_rating = get_round_coeffvar(ind_df, 'old_rating', 'num_nonmissing_oldrating') \n",
    "\n",
    "\n",
    "new = pd.concat([mean_submit_num, median_submit_num, \n",
    "                 coeff_var_num_submissions, gini_num_submissions,\n",
    "                 coeff_var_sum_code_lines, gini_sum_code_lines,\n",
    "                 coeff_var_prov, coeff_var_fin, coeff_var_firstcomp, coeff_var_lastcomp, \n",
    "                 gini_prov, gini_fin, gini_firstcomp, gini_lastcomp, \n",
    "                 corr_old_prov_rank, corr_old_fin_rank, \n",
    "                 corr_old_new_rating, corr_old_prov_score, \n",
    "                 mean_rating_newcomers, median_rating_newcomers,\n",
    "                 prop_newcomers,\n",
    "                 mean_old_rating, median_old_rating,\n",
    "                gini_old_rating, coeff_var_old_rating], axis=1)\n",
    "new.columns = ['mean_submit_num', 'median_submit_num', \n",
    "               'coeff_var_num_submissions', 'gini_num_submissions',\n",
    "               'coeff_var_sum_code_lines', 'gini_sum_code_lines',\n",
    "               'coeff_var_prov', 'coeff_var_fin', 'coeff_var_firstcomp', 'coeff_var_lastcomp', \n",
    "               'gini_prov', 'gini_fin', 'gini_firstcomp', 'gini_lastcomp', \n",
    "               'corr_old_prov_rank', 'corr_old_fin_rank', \n",
    "               'corr_old_new_rating', 'corr_old_prov_score', \n",
    "               'mean_rating_newcomers', 'median_rating_newcomers',\n",
    "               'prop_newcomers',\n",
    "               'mean_old_rating', 'median_old_rating',\n",
    "               'gini_old_rating', 'coeff_var_old_rating']\n",
    "new.reset_index(inplace=True)\n",
    "#print(new.head(n=5))\n"
   ]
  },
  {
   "cell_type": "markdown",
   "metadata": {},
   "source": [
    "### 4.3. Check for challenge outliers in terms of individual performance"
   ]
  },
  {
   "cell_type": "code",
   "execution_count": 16,
   "metadata": {
    "scrolled": false
   },
   "outputs": [
    {
     "data": {
      "text/plain": [
       "<AxesSubplot:xlabel='corr_old_prov_rank'>"
      ]
     },
     "execution_count": 16,
     "metadata": {},
     "output_type": "execute_result"
    },
    {
     "data": {
      "image/png": "[encoded data removed]",
      "text/plain": [
       "<Figure size 432x288 with 1 Axes>"
      ]
     },
     "metadata": {},
     "output_type": "display_data"
    },
    {
     "data": {
      "image/png": "[encoded data removed]",
      "text/plain": [
       "<Figure size 432x288 with 1 Axes>"
      ]
     },
     "metadata": {},
     "output_type": "display_data"
    },
    {
     "data": {
      "image/png": "[encoded data removed]",
      "text/plain": [
       "<Figure size 432x288 with 1 Axes>"
      ]
     },
     "metadata": {},
     "output_type": "display_data"
    },
    {
     "data": {
      "image/png": "[encoded data removed]",
      "text/plain": [
       "<Figure size 432x288 with 1 Axes>"
      ]
     },
     "metadata": {},
     "output_type": "display_data"
    },
    {
     "data": {
      "image/png": "[encoded data removed]",
      "text/plain": [
       "<Figure size 432x288 with 1 Axes>"
      ]
     },
     "metadata": {},
     "output_type": "display_data"
    },
    {
     "data": {
      "image/png": "[encoded data removed]",
      "text/plain": [
       "<Figure size 432x288 with 1 Axes>"
      ]
     },
     "metadata": {},
     "output_type": "display_data"
    }
   ],
   "source": [
    "# Merge challenge-level variables to matched challenge data and export\n",
    "matched_ch_df = matched_ch_df.merge(new, on='round_id', how='left')\\\n",
    "                                .sort_values(by = ['stratum', 'scoring_type'])\n",
    "# Save matches to csv\n",
    "matched_ch_df.to_csv(f'{DATA_DIR}/out/challenges_matched.csv', index = False)\n",
    "\n",
    "\n",
    "plt.figure()\n",
    "sns.distplot(matched_ch_df['median_submit_num'][matched_ch_df['median_submit_num'].notnull()], kde=False)\n",
    "plt.figure()\n",
    "sns.distplot(matched_ch_df['coeff_var_prov'][matched_ch_df['coeff_var_prov'].notnull()], kde=False)\n",
    "plt.figure()\n",
    "sns.distplot(matched_ch_df['coeff_var_fin'][matched_ch_df['coeff_var_fin'].notnull()], kde=False)\n",
    "plt.figure()\n",
    "sns.distplot(matched_ch_df['gini_prov'][matched_ch_df['gini_prov'].notnull()], kde=False)\n",
    "plt.figure()\n",
    "sns.distplot(matched_ch_df['gini_fin'][matched_ch_df['gini_fin'].notnull()], kde=False)\n",
    "plt.figure()\n",
    "sns.distplot(matched_ch_df['corr_old_prov_rank'][matched_ch_df['corr_old_prov_rank'].notnull()], kde=False)\n",
    "\n",
    "\n"
   ]
  },
  {
   "cell_type": "markdown",
   "metadata": {},
   "source": [
    "### 4.4. Keep only individual-stratum observations that have at least 1 relative and 1 absolute observations in a stratum"
   ]
  },
  {
   "cell_type": "code",
   "execution_count": 17,
   "metadata": {
    "scrolled": false
   },
   "outputs": [],
   "source": [
    "def get_individual_data_for_matched_challenges(df_in, df_ch, fname):\n",
    "    '''All individuals in matched challenges'''\n",
    "    challenge_vars = ['round_id', \"num_contestants\", 'contestant_registrant_ratio', \n",
    "                  \"average_experience\", \"engagement_barrier\", 'scoring_complexity', \n",
    "                  \"provisional_testing\", \"task_type\",\n",
    "                  'target', 'improve', 'scoring_type', 'stratum']\n",
    "    \n",
    "    df_in_matched_ch = df_in.merge(df_ch[challenge_vars], on='round_id', how='inner')\n",
    "    # Save data to file\n",
    "    df_in_matched_ch = df_in_matched_ch\\\n",
    "                    .sort_values(by = ['stratum', 'scoring_type', 'coder_id'])\\\n",
    "                    .reset_index(drop = True)\n",
    "    df_in_matched_ch.to_csv(f\"{DATA_DIR}/out/{fname}\", index = False)\n",
    "    return df_in_matched_ch\n",
    "    \n",
    "\n",
    "def get_matched_individuals(df_in, df_ch, fname):\n",
    "    '''Rated individuals who have participated in at least one absolutely \n",
    "    and one relatively scored challenge in a stratum.'''\n",
    "    challenge_vars = ['round_id', \"num_contestants\", 'contestant_registrant_ratio', \n",
    "                  \"average_experience\", \"engagement_barrier\", 'scoring_complexity', \n",
    "                  \"provisional_testing\", \"task_type\",\n",
    "                  'target', 'improve', 'scoring_type', 'stratum']\n",
    "    \n",
    "    df_in = df_in[df_in['old_rating_rank_norm'].notnull()]\n",
    "    matched_df_in = df_in.merge(df_ch[challenge_vars], on='round_id', how='inner')\n",
    "    matched_df_in = matched_df_in.groupby(['stratum', 'coder_id'])\\\n",
    "                                 .filter(lambda x: len(x['scoring_type'].unique()) > 1)\n",
    "    # Save data to file\n",
    "    matched_df_in = matched_df_in\\\n",
    "                    .sort_values(by = ['stratum', 'coder_id', 'scoring_type'])\\\n",
    "                    .reset_index(drop = True)\n",
    "    matched_df_in.to_csv(f\"{DATA_DIR}/out/{fname}\", index = False)\n",
    "    return matched_df_in\n",
    "\n",
    "\n",
    "individuals_in_matched_data = get_individual_data_for_matched_challenges(ind_df, \\\n",
    "                                        matched_ch_df, 'individuals_in_matched_challenges.csv')\n",
    "matched_ind_df = get_matched_individuals(ind_df, \\\n",
    "                                        matched_ch_df, 'individuals_matched.csv')\n"
   ]
  },
  {
   "cell_type": "markdown",
   "metadata": {},
   "source": [
    "## 5. Challenge-level results"
   ]
  },
  {
   "cell_type": "code",
   "execution_count": 18,
   "metadata": {},
   "outputs": [
    {
     "name": "stdout",
     "output_type": "stream",
     "text": [
      "Number of observations of matched individuals: 1239\n",
      "Number of unique matched individuals: 319\n",
      "Number of rounds for matched individuals: 42\n",
      "Number of strata for matched individuals: 12\n",
      "Number of submissions for matched individuals: 12914\n",
      "       num_submissions  num_ratings  num_prev_ratings  old_rating_rank_norm  \\\n",
      "count      1239.000000  1239.000000       1239.000000           1239.000000   \n",
      "mean         10.422922    20.718321         19.718321              0.565352   \n",
      "std          11.312437    18.344546         18.344546              0.289906   \n",
      "min           1.000000     2.000000          1.000000              0.003937   \n",
      "25%           3.000000     7.000000          6.000000              0.329774   \n",
      "50%           7.000000    16.000000         15.000000              0.594488   \n",
      "75%          13.000000    28.000000         27.000000              0.820534   \n",
      "max         147.000000   126.000000        125.000000              1.000000   \n",
      "\n",
      "       predictability_prov  prov_score_norm_distance  last_complexity  \\\n",
      "count          1239.000000               1239.000000      1195.000000   \n",
      "mean              0.830196                  0.332587       147.123849   \n",
      "std               0.151150                  0.298719       128.391321   \n",
      "min               0.181465                  0.000000         1.000000   \n",
      "25%               0.760349                  0.082164        58.500000   \n",
      "50%               0.867449                  0.248470       109.000000   \n",
      "75%               0.946288                  0.509850       195.000000   \n",
      "max               1.000000                  1.000000      1208.000000   \n",
      "\n",
      "       sum_code_lines  \n",
      "count     1123.000000  \n",
      "mean      1006.899377  \n",
      "std       1123.781626  \n",
      "min          3.000000  \n",
      "25%        358.500000  \n",
      "50%        708.000000  \n",
      "75%       1314.500000  \n",
      "max      20701.000000  \n"
     ]
    }
   ],
   "source": [
    "print('Number of observations of matched individuals:', len(matched_ind_df['coder_id']))\n",
    "print('Number of unique matched individuals:', len(matched_ind_df['coder_id'].unique()))\n",
    "print('Number of rounds for matched individuals:', len(matched_ind_df['round_id'].unique()))\n",
    "print('Number of strata for matched individuals:', len(matched_ind_df['stratum'].unique()))\n",
    "print('Number of submissions for matched individuals:', sum(matched_ind_df['num_submissions'].values))\n",
    "\n",
    "print(matched_ind_df\\\n",
    "      [['num_submissions', 'num_ratings', 'num_prev_ratings', 'old_rating_rank_norm', \\\n",
    "        'predictability_prov', 'prov_score_norm_distance', 'last_complexity', 'sum_code_lines']].describe())"
   ]
  },
  {
   "cell_type": "code",
   "execution_count": 19,
   "metadata": {
    "scrolled": false
   },
   "outputs": [
    {
     "name": "stderr",
     "output_type": "stream",
     "text": [
      "<ipython-input-19-7b17bb51260c>:19: MatplotlibDeprecationWarning: savefig() got unexpected keyword argument \"type\" which is no longer supported as of 3.3 and will become an error two minor releases later\n",
      "  plt.savefig(f'{PLOTS_DIR}fig_1.pdf', type='pdf')\n",
      "<ipython-input-19-7b17bb51260c>:24: MatplotlibDeprecationWarning: savefig() got unexpected keyword argument \"type\" which is no longer supported as of 3.3 and will become an error two minor releases later\n",
      "  plt.savefig(f'{PLOTS_DIR}newcomers_rating_mean_by_challenge.pdf', type='pdf')\n",
      "<ipython-input-19-7b17bb51260c>:37: MatplotlibDeprecationWarning: savefig() got unexpected keyword argument \"type\" which is no longer supported as of 3.3 and will become an error two minor releases later\n",
      "  plt.savefig(f'{PLOTS_DIR}fig_s3.pdf', type='pdf')\n"
     ]
    },
    {
     "data": {
      "image/png": "[encoded data removed]",
      "text/plain": [
       "<Figure size 504x126 with 3 Axes>"
      ]
     },
     "metadata": {},
     "output_type": "display_data"
    },
    {
     "data": {
      "image/png": "[encoded data removed]",
      "text/plain": [
       "<Figure size 158.4x126 with 1 Axes>"
      ]
     },
     "metadata": {},
     "output_type": "display_data"
    },
    {
     "data": {
      "image/png": "[encoded data removed]",
      "text/plain": [
       "<Figure size 338.4x126 with 2 Axes>"
      ]
     },
     "metadata": {},
     "output_type": "display_data"
    }
   ],
   "source": [
    "def plot_mean_stratum_val(df, ax, y, yname, ylim):\n",
    "    mean_df = df.groupby(['stratum', 'scoring_type'])[y].mean().reset_index()\n",
    "    # Keep only strata that have both values\n",
    "    mean_df = mean_df.groupby('stratum').filter(lambda x: x[y].count() == 2)  \n",
    "    sns.pointplot(x='scoring_type', y=y, data=mean_df, ax = ax, palette=['k', 'magenta'])\n",
    "    ax.set_xlabel('')\n",
    "    ax.set_ylabel(yname)\n",
    "    sns.despine()\n",
    "    ax.set_ylim(ylim[0], ylim[1])\n",
    "    #ax.grid(axis='y')\n",
    "\n",
    "mpl.rcParams['xtick.labelsize'] = 8  \n",
    "\n",
    "fig, ax = plt.subplots(nrows = 1, ncols = 3, figsize = (7, 1.75))\n",
    "plot_mean_stratum_val(matched_ch_df, ax[0], 'gini_lastcomp', \"Gini for code complexity\", (0.25, 0.75))\n",
    "plot_mean_stratum_val(matched_ch_df, ax[1], 'corr_old_prov_rank', r\"$\\rho$(rating, rank)\", (0.25, 0.75))\n",
    "plot_mean_stratum_val(matched_ch_df, ax[2], 'gini_sum_code_lines', \"Gini for total code lines\", (0.25, 0.75)) \n",
    "plt.tight_layout()\n",
    "plt.savefig(f'{PLOTS_DIR}/fig_1.pdf', type='pdf')\n",
    "\n",
    "fig, ax = plt.subplots(nrows = 1, ncols = 1, figsize = (2.2, 1.75))\n",
    "plot_mean_stratum_val(matched_ch_df, ax, 'corr_old_new_rating', r\"$\\rho$(old rating, new rating)\", (0.75, 1))\n",
    "plt.tight_layout()\n",
    "plt.savefig(f'{PLOTS_DIR}/newcomers_rating_mean_by_challenge.pdf', type='pdf')\n",
    "\n",
    "mpl.rcParams['xtick.labelsize'] = 6\n",
    "\n",
    "#print(mannwhitneyu(matched_ch_df[matched_ch_df['scoring_type']=='Absolute']['corr_old_new_rating'],\\\n",
    "#              matched_ch_df[matched_ch_df['scoring_type']=='Relative']['corr_old_new_rating']))\n",
    "\n",
    "matched_ch_df.columns\n",
    "\n",
    "fig, ax = plt.subplots(nrows = 1, ncols = 2, figsize = (4.7, 1.75))\n",
    "plot_mean_stratum_val(matched_ch_df, ax[0], 'mean_old_rating', \"Mean rating\", (0, 2000))\n",
    "plot_mean_stratum_val(matched_ch_df, ax[1], 'coeff_var_old_rating', \"Coeff. of variation for rating\", (0, 0.5)) \n",
    "plt.tight_layout()\n",
    "plt.savefig(f'{PLOTS_DIR}/fig_s3.pdf', type='pdf')\n"
   ]
  },
  {
   "cell_type": "markdown",
   "metadata": {},
   "source": [
    "## 6.1. Individual-level results – Relative rating"
   ]
  },
  {
   "cell_type": "code",
   "execution_count": 20,
   "metadata": {
    "scrolled": false
   },
   "outputs": [
    {
     "name": "stdout",
     "output_type": "stream",
     "text": [
      "(954, 5)\n",
      "(954, 5)\n",
      "(954, 5)\n",
      "(954, 5)\n",
      "(954, 5)\n",
      "(954, 5)\n",
      "(954, 5)\n"
     ]
    },
    {
     "data": {
      "image/png": "[encoded data removed]",
      "text/plain": [
       "<Figure size 684x126 with 4 Axes>"
      ]
     },
     "metadata": {},
     "output_type": "display_data"
    },
    {
     "data": {
      "image/png": "[encoded data removed]",
      "text/plain": [
       "<Figure size 504x126 with 3 Axes>"
      ]
     },
     "metadata": {},
     "output_type": "display_data"
    }
   ],
   "source": [
    "def plot_indiv_mean_stratum_val(df, ax, y, yname, ylim):\n",
    "    mean_df = df.groupby(['stratum', 'coder_id', 'scoring_type'])[y].mean().reset_index()\n",
    "    #sns.pointplot(x='scoring_type', y=y, data=mean_df, ax = ax, markers=\"\", join=True, ci=None, color='0.5')\n",
    "    sns.pointplot(x='scoring_type', y=y, data=mean_df, ax = ax, palette=['k', 'magenta'])\n",
    "    ax.set_xlabel('')\n",
    "    ax.set_ylabel(yname, fontsize=8)\n",
    "    sns.despine()\n",
    "    ax.set_ylim(ylim[0],ylim[1])\n",
    "    #ax.grid('on')\n",
    "    \n",
    "def plot_indiv_mean_stratum_val_by_rating(df, ax, y, yname, ylim, legend = False):\n",
    "    mean_df = df.groupby(['stratum', 'coder_id', 'scoring_type'])[['old_rating_rank_norm', y]].mean().reset_index()\n",
    "    print(mean_df.shape)\n",
    "    mean_df['old_rating_rank_decile'] = mean_df['old_rating_rank_norm'].round(1)\n",
    "    sns.lineplot(x='old_rating_rank_decile', y=y, hue='scoring_type', data=mean_df, ax = ax, palette=['k', 'magenta'])\n",
    "    ax.set_xlabel('Rating decile', fontsize=8)\n",
    "    ax.set_ylabel(yname, fontsize=8)\n",
    "    sns.despine()\n",
    "    ax.set_ylim(ylim[0],ylim[1])\n",
    "    if legend==False:\n",
    "        ax.legend().set_visible(False)\n",
    "    else:\n",
    "        handles, labels = ax.get_legend_handles_labels()\n",
    "        ax.legend(handles=handles[1:], labels=labels[1:])\n",
    "    #ax.grid('on')\n",
    "\n",
    "#fig, ax = plt.subplots(nrows = 1, ncols = 3, figsize = (7, 1.75))\n",
    "#plot_indiv_mean_stratum_val(matched_ind_df, ax[0], 'prov_score_norm_distance', \"Distance from winner\", (0, 1))\n",
    "#plot_indiv_mean_stratum_val(matched_ind_df, ax[1], 'predictability_prov', \"Proximity to rating\", (0, 1))\n",
    "#plot_indiv_mean_stratum_val(matched_ind_df, ax[2], 'num_submissions', \"Number of submissions\", (0, 11)) \n",
    "#plt.tight_layout()\n",
    "\n",
    "\n",
    "\n",
    "# Plot predictability by 'old_rating_rank_norm' for absolute and relative\n",
    "fig, ax = plt.subplots(nrows = 1, ncols = 4, figsize = (9.5, 1.75))\n",
    "plot_indiv_mean_stratum_val_by_rating(matched_ind_df, ax[0], 'prov_score_norm_distance', \"Distance from winner\", (0, 1))\n",
    "plot_indiv_mean_stratum_val_by_rating(matched_ind_df, ax[1], 'last_complexity', \"Complexity of last submission\", (0, 400), legend=True)\n",
    "plot_indiv_mean_stratum_val_by_rating(matched_ind_df, ax[2], 'predictability_prov', \"Proximity to rating\", (0, 1), legend=True)\n",
    "plot_indiv_mean_stratum_val_by_rating(matched_ind_df, ax[3], 'num_submissions', \"Number of submissions\", (0, 25))\n",
    "plt.tight_layout()\n",
    "\n",
    "\n",
    "\n",
    "fig, ax = plt.subplots(nrows = 1, ncols = 3, figsize = (7, 1.75))\n",
    "plot_indiv_mean_stratum_val_by_rating(matched_ind_df, ax[0], 'dev_from_predicted_prov', \"Ranking - old rating\", (-0.5, 0.5))\n",
    "plot_indiv_mean_stratum_val_by_rating(matched_ind_df, ax[1], 'prov_rank_norm', \"Percentile rank\", (0, 1), legend=True)\n",
    "ax[1].plot([0,1], [0,1], 'k')\n",
    "plot_indiv_mean_stratum_val_by_rating(matched_ind_df, ax[2], 'new_minus_old_rating', \"New rating - old rating\", (-150, 150), legend=True)\n",
    "plt.tight_layout()\n"
   ]
  },
  {
   "cell_type": "markdown",
   "metadata": {},
   "source": [
    "## 6.2. Individual-level results – Absolute rating"
   ]
  },
  {
   "cell_type": "code",
   "execution_count": 21,
   "metadata": {
    "scrolled": false
   },
   "outputs": [
    {
     "name": "stdout",
     "output_type": "stream",
     "text": [
      "(954, 5)\n",
      "(954, 5)\n",
      "(954, 5)\n",
      "(954, 5)\n"
     ]
    },
    {
     "name": "stderr",
     "output_type": "stream",
     "text": [
      "<ipython-input-21-d38025ba07e7>:41: MatplotlibDeprecationWarning: savefig() got unexpected keyword argument \"type\" which is no longer supported as of 3.3 and will become an error two minor releases later\n",
      "  plt.savefig(f'{PLOTS_DIR}fig_2_abs.pdf', type='pdf')\n"
     ]
    },
    {
     "name": "stdout",
     "output_type": "stream",
     "text": [
      "(954, 5)\n",
      "(954, 5)\n"
     ]
    },
    {
     "data": {
      "image/png": "[encoded data removed]",
      "text/plain": [
       "<Figure size 684x126 with 4 Axes>"
      ]
     },
     "metadata": {},
     "output_type": "display_data"
    },
    {
     "data": {
      "image/png": "[encoded data removed]",
      "text/plain": [
       "<Figure size 345.6x126 with 2 Axes>"
      ]
     },
     "metadata": {},
     "output_type": "display_data"
    }
   ],
   "source": [
    "def plot_indiv_mean_stratum_val_abs(df, ax, y, yname, ylim):\n",
    "    mean_df = df.groupby(['stratum', 'coder_id', 'scoring_type'])[y].mean().reset_index()\n",
    "    #sns.pointplot(x='scoring_type', y=y, data=mean_df, ax = ax, markers=\"\", join=True, ci=None, color='0.5')\n",
    "    sns.pointplot(x='scoring_type', y=y, data=mean_df, ax = ax, palette=['k', 'magenta'])\n",
    "    ax.set_xlabel('')\n",
    "    ax.set_ylabel(yname, fontsize=8)\n",
    "    sns.despine()\n",
    "    ax.set_ylim(ylim[0],ylim[1])\n",
    "    #ax.grid('on')\n",
    "    \n",
    "def plot_indiv_mean_stratum_val_by_rating_abs(df, ax, y, yname, ylim, legend = False):\n",
    "    mean_df = df.groupby(['stratum', 'coder_id', 'scoring_type'])[['old_rating', y]].mean().reset_index()\n",
    "    print(mean_df.shape)\n",
    "    mean_df['old_rating_decile'] = (0.5 * mean_df['old_rating'] / max(mean_df['old_rating'].values)).round(1) * 2\n",
    "    sns.lineplot(x='old_rating_decile', y=y, hue='scoring_type', data=mean_df, ax = ax, palette=['k', 'magenta'])\n",
    "    ax.set_xlabel('Absolute rating quintile', fontsize=8)\n",
    "    ax.set_ylabel(yname, fontsize=8)\n",
    "    sns.despine()\n",
    "    ax.set_ylim(ylim[0],ylim[1])\n",
    "    if legend==False:\n",
    "        ax.legend().set_visible(False)\n",
    "    else:\n",
    "        handles, labels = ax.get_legend_handles_labels()\n",
    "        ax.legend(handles=handles[1:], labels=labels[1:])\n",
    "    #ax.grid('on')\n",
    "\n",
    "#fig, ax = plt.subplots(nrows = 1, ncols = 3, figsize = (7, 2))\n",
    "#plot_indiv_mean_stratum_val(matched_ind_df, ax[0], 'prov_score_norm_distance', \"Distance from winner\", (0, 1))\n",
    "#plot_indiv_mean_stratum_val(matched_ind_df, ax[1], 'predictability_prov', \"Proximity to rating\", (0, 1))\n",
    "#plot_indiv_mean_stratum_val(matched_ind_df, ax[2], 'num_submissions', \"Number of submissions\", (0, 11)) \n",
    "#plt.tight_layout()\n",
    "\n",
    "\n",
    "# Plot predictability by 'old_rating_rank_norm' for absolute and relative\n",
    "fig, ax = plt.subplots(nrows = 1, ncols = 4, figsize = (9.5, 1.75))\n",
    "plot_indiv_mean_stratum_val_by_rating_abs(matched_ind_df, ax[0], 'prov_score_norm_distance', \"Distance from winner\", (0, 1))\n",
    "plot_indiv_mean_stratum_val_by_rating_abs(matched_ind_df, ax[1], 'last_complexity', \"Complexity of last submission\", (0, 400))\n",
    "plot_indiv_mean_stratum_val_by_rating_abs(matched_ind_df, ax[2], 'predictability_prov', \"Proximity to rating\", (0, 1), legend=True)\n",
    "plot_indiv_mean_stratum_val_by_rating_abs(matched_ind_df, ax[3], 'num_submissions', \"Number of submissions\", (0, 50))\n",
    "plt.tight_layout()\n",
    "plt.savefig(f'{PLOTS_DIR}/fig_2_abs.pdf', type='pdf')\n",
    "\n",
    "\n",
    "fig, ax = plt.subplots(nrows = 1, ncols = 2, figsize = (4.8, 1.75))\n",
    "plot_indiv_mean_stratum_val_by_rating_abs(matched_ind_df, ax[0], 'dev_from_predicted_prov', \"Ranking - old rating\", (-0.5, 0.5))\n",
    "plot_indiv_mean_stratum_val_by_rating_abs(matched_ind_df, ax[1], 'new_minus_old_rating', \"New rating - old rating\", (-150, 150), legend=True)\n",
    "plt.tight_layout()\n"
   ]
  },
  {
   "cell_type": "code",
   "execution_count": 22,
   "metadata": {},
   "outputs": [
    {
     "name": "stdout",
     "output_type": "stream",
     "text": [
      "Unique individuals: 319\n",
      "       num_submissions  num_ratings  old_rating_rank_norm  \\\n",
      "count      1239.000000  1239.000000           1239.000000   \n",
      "mean         10.422922    20.718321              0.565352   \n",
      "std          11.312437    18.344546              0.289906   \n",
      "min           1.000000     2.000000              0.003937   \n",
      "25%           3.000000     7.000000              0.329774   \n",
      "50%           7.000000    16.000000              0.594488   \n",
      "75%          13.000000    28.000000              0.820534   \n",
      "max         147.000000   126.000000              1.000000   \n",
      "\n",
      "       predictability_prov  prov_score_norm_distance  \n",
      "count          1239.000000               1239.000000  \n",
      "mean              0.830196                  0.332587  \n",
      "std               0.151150                  0.298719  \n",
      "min               0.181465                  0.000000  \n",
      "25%               0.760349                  0.082164  \n",
      "50%               0.867449                  0.248470  \n",
      "75%               0.946288                  0.509850  \n",
      "max               1.000000                  1.000000  \n"
     ]
    }
   ],
   "source": [
    "print('Unique individuals:', len(matched_ind_df['coder_id'].unique()))\n",
    "\n",
    "print(matched_ind_df\\\n",
    "      [['num_submissions', 'num_ratings', 'old_rating_rank_norm', \\\n",
    "        'predictability_prov', 'prov_score_norm_distance']].describe())"
   ]
  },
  {
   "cell_type": "markdown",
   "metadata": {},
   "source": [
    "## 7. Export file with matched individuals or newcomers in matched challenges"
   ]
  },
  {
   "cell_type": "code",
   "execution_count": 23,
   "metadata": {
    "scrolled": false
   },
   "outputs": [],
   "source": [
    "# Import first-timers data (excluding those who are unrated but have \n",
    "# particpated in a challenge before) and match with individual-level data\n",
    "newcom_df = pd.read_csv(f'{DATA_DIR}/in/newcomers.csv')[['round_id', 'coder_id', 'ReturnTime']]\n",
    "newcom_df['returned'] = 0\n",
    "newcom_df.loc[newcom_df['ReturnTime'].notnull(), 'returned'] = 1\n",
    "newcom_df = newcom_df[['round_id', 'coder_id', 'returned']] \\\n",
    "                 .merge(individuals_in_matched_data, on=['round_id', 'coder_id'], how='inner')\n",
    "\n",
    "# Keep only if both control and treatment in stratum\n",
    "newcom_df = newcom_df[newcom_df.groupby('stratum')['scoring_type']\\\n",
    "                               .transform(lambda x: len(x.unique())) > 1]\n",
    "newcom_df['newcomer'] = 1\n",
    "\n",
    "matched_ind_df['newcomer'] = 0\n",
    "newdf = pd.concat([matched_ind_df[['stratum', \n",
    "                                   'round_id', \n",
    "                                   'coder_id', \n",
    "                                   'newcomer']], newcom_df[['stratum', \n",
    "                                                            'round_id', \n",
    "                                                            'coder_id', \n",
    "                                                            'newcomer']]], axis=0, ignore_index=True)\n",
    "newdf.to_csv(f'{DATA_DIR}/out/matched_individuals_plus_newcomers.csv', index = False)"
   ]
  },
  {
   "cell_type": "code",
   "execution_count": null,
   "metadata": {},
   "outputs": [],
   "source": []
  }
 ],
 "metadata": {
  "kernelspec": {
   "display_name": "Python 3",
   "language": "python",
   "name": "python3"
  },
  "language_info": {
   "codemirror_mode": {
    "name": "ipython",
    "version": 3
   },
   "file_extension": ".py",
   "mimetype": "text/x-python",
   "name": "python",
   "nbconvert_exporter": "python",
   "pygments_lexer": "ipython3",
   "version": "3.8.3"
  }
 },
 "nbformat": 4,
 "nbformat_minor": 2
}
